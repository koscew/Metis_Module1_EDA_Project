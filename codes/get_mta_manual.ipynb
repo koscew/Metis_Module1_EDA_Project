{
 "cells": [
  {
   "cell_type": "code",
   "execution_count": 1,
   "id": "37f45496",
   "metadata": {},
   "outputs": [],
   "source": [
    "import pandas as pd\n",
    "def get_data(week_nums):\n",
    "    url = \"http://web.mta.info/developers/data/nyct/turnstile/turnstile_{}.txt\" #url with formatting to fill in the number of the particular week\n",
    "    dfs = []\n",
    "    for week_num in week_nums: #for each week\n",
    "        file_url = url.format(week_num) #format the url so it grabs that week\n",
    "        dfs.append(pd.read_csv(file_url)) #append to our empty list\n",
    "    return pd.concat(dfs) #combine files for each week\n",
    "        \n",
    "\n",
    "week_nums = [210306, 210313, 210320, 210327, 210403, 210410, 210417, 210424, 210501, 210508, 210515, 210522, 210529, 210605]\n",
    "turnstiles_df = get_data(week_nums) #use our function to get a df with all of our data\n",
    "turnstiles_df.to_csv('mta_data_all.csv', header = False, index = False)"
   ]
  },
  {
   "cell_type": "markdown",
   "id": "8794c46f",
   "metadata": {},
   "source": [
    "## In command\n",
    "### Create database\n",
    "sqlite3 mta.db\n",
    "\n",
    "### Create table\n",
    "CREATE TABLE mta_data (\n",
    "\tCA TEXT,\n",
    "\tUNIT TEXT,\n",
    "\tSCP TEXT,\n",
    "\tSTATION TEXT,\n",
    "\tLINENAME TEXT,\n",
    "\tDIVISION TEXT,\n",
    "\tDATE TEXT,\n",
    "\tTIME TEXT,\n",
    "\tDESC TEXT,\n",
    "\tENTRIES INTEGER,\n",
    "\tEXITS INTEGER,\n",
    "\tPRIMARY KEY (CA,UNIT,SCP,STATION,LINENAME,DIVISION,DATE,TIME,DESC,ENTRIES,EXITS)\n",
    "\t);\n",
    "\n",
    "### Import csv into table\n",
    ".mode csv  \n",
    ".import mta_data_all.csv mta_data"
   ]
  },
  {
   "cell_type": "code",
   "execution_count": null,
   "id": "bd279836",
   "metadata": {},
   "outputs": [],
   "source": []
  }
 ],
 "metadata": {
  "kernelspec": {
   "display_name": "Python [conda env:metis] *",
   "language": "python",
   "name": "conda-env-metis-py"
  },
  "language_info": {
   "codemirror_mode": {
    "name": "ipython",
    "version": 3
   },
   "file_extension": ".py",
   "mimetype": "text/x-python",
   "name": "python",
   "nbconvert_exporter": "python",
   "pygments_lexer": "ipython3",
   "version": "3.8.10"
  }
 },
 "nbformat": 4,
 "nbformat_minor": 5
}
